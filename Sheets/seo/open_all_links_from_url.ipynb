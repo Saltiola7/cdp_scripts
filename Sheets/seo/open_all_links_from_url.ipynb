{
 "cells": [
  {
   "cell_type": "code",
   "execution_count": 1,
   "metadata": {},
   "outputs": [
    {
     "name": "stdout",
     "output_type": "stream",
     "text": [
      "https://grm-services.fi/geofysiikka/lentomittaus/\n",
      "https://grm-services.fi/tiedotteet/malliartikkeli-1/\n",
      "https://grm-services.fi/\n",
      "https://grm-services.fi/yhteystiedot/\n",
      "https://grm-services.fi/tiedotteet/uudistuneet-www-sivut/\n",
      "https://grm-services.fi/kalliomekaniikka/\n",
      "https://grm-services.fi/yritys/\n",
      "https://grm-services.fi/referenssit/\n",
      "https://grm-services.fi/geofysiikka/reikamittaus/\n",
      "https://grm-services.fi/geofysiikka/\n",
      "https://grm-services.fi/geofysiikka/maanpintamittaus/\n",
      "https://grm-services.fi/ajankohtaista/\n"
     ]
    }
   ],
   "source": [
    "import requests\n",
    "from bs4 import BeautifulSoup\n",
    "\n",
    "def fetch_links(url):\n",
    "    # Send a GET request to the URL\n",
    "    response = requests.get(url)\n",
    "    # Parse the HTML content of the page\n",
    "    soup = BeautifulSoup(response.text, 'html.parser')\n",
    "    # Find all anchor tags in the HTML\n",
    "    links = soup.find_all('a')\n",
    "    \n",
    "    unique_links = set()\n",
    "    # Extract the href attribute (URL) from each anchor tag\n",
    "    for link in links:\n",
    "        href = link.get('href')\n",
    "        if href and href.startswith('http'):\n",
    "            unique_links.add(href)\n",
    "    \n",
    "    return unique_links\n",
    "\n",
    "# The URL from which to extract links\n",
    "url = \"https://grm-services.fi/\"\n",
    "links = fetch_links(url)\n",
    "\n",
    "# Print all unique links\n",
    "for link in links:\n",
    "    print(link)\n"
   ]
  },
  {
   "cell_type": "code",
   "execution_count": 2,
   "metadata": {},
   "outputs": [],
   "source": [
    "import subprocess\n",
    "\n",
    "# Assuming `links` contains the URLs fetched from the previous cell\n",
    "# If running this in a new session, make sure you execute the previous cell first or redefine `links` here\n",
    "\n",
    "# Example: Open the first 5 URLs in the Arc browser\n",
    "# Adjust the number of links to open as per your requirement to avoid overwhelming your browser\n",
    "for url in list(links)[:5]:\n",
    "    subprocess.run([\"open\", \"-a\", \"Arc\", url], check=True)\n"
   ]
  }
 ],
 "metadata": {
  "kernelspec": {
   "display_name": "Python 3",
   "language": "python",
   "name": "python3"
  },
  "language_info": {
   "codemirror_mode": {
    "name": "ipython",
    "version": 3
   },
   "file_extension": ".py",
   "mimetype": "text/x-python",
   "name": "python",
   "nbconvert_exporter": "python",
   "pygments_lexer": "ipython3",
   "version": "3.11.6"
  }
 },
 "nbformat": 4,
 "nbformat_minor": 2
}
