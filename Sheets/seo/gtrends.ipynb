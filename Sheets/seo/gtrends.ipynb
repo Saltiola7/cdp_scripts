{
 "cells": [
  {
   "cell_type": "markdown",
   "metadata": {},
   "source": [
    "currently broken"
   ]
  },
  {
   "cell_type": "code",
   "execution_count": 15,
   "metadata": {},
   "outputs": [
    {
     "ename": "KeyError",
     "evalue": "'webflow'",
     "output_type": "error",
     "traceback": [
      "\u001b[0;31m---------------------------------------------------------------------------\u001b[0m",
      "\u001b[0;31mKeyError\u001b[0m                                  Traceback (most recent call last)",
      "Cell \u001b[0;32mIn[15], line 34\u001b[0m\n\u001b[1;32m     32\u001b[0m plt\u001b[38;5;241m.\u001b[39mfigure(figsize\u001b[38;5;241m=\u001b[39m(\u001b[38;5;241m14\u001b[39m, \u001b[38;5;241m7\u001b[39m))\n\u001b[1;32m     33\u001b[0m \u001b[38;5;28;01mfor\u001b[39;00m keyword \u001b[38;5;129;01min\u001b[39;00m kw_list:  \u001b[38;5;66;03m# Loop over the keywords\u001b[39;00m\n\u001b[0;32m---> 34\u001b[0m     plt\u001b[38;5;241m.\u001b[39mplot(interest_over_time_df[keyword], label\u001b[38;5;241m=\u001b[39mkeyword)  \u001b[38;5;66;03m# Plot the data for each keyword\u001b[39;00m\n\u001b[1;32m     35\u001b[0m plt\u001b[38;5;241m.\u001b[39mtitle(\u001b[38;5;124m'\u001b[39m\u001b[38;5;124mGoogle Trends Worldwide, Last 5 Years\u001b[39m\u001b[38;5;124m'\u001b[39m, fontweight\u001b[38;5;241m=\u001b[39m\u001b[38;5;124m'\u001b[39m\u001b[38;5;124mbold\u001b[39m\u001b[38;5;124m'\u001b[39m)\n\u001b[1;32m     36\u001b[0m plt\u001b[38;5;241m.\u001b[39mxlabel(\u001b[38;5;124m'\u001b[39m\u001b[38;5;124mYear\u001b[39m\u001b[38;5;124m'\u001b[39m)\n",
      "File \u001b[0;32m~/anaconda3/envs/latest/lib/python3.12/site-packages/pandas/core/frame.py:3893\u001b[0m, in \u001b[0;36mDataFrame.__getitem__\u001b[0;34m(self, key)\u001b[0m\n\u001b[1;32m   3891\u001b[0m \u001b[38;5;28;01mif\u001b[39;00m \u001b[38;5;28mself\u001b[39m\u001b[38;5;241m.\u001b[39mcolumns\u001b[38;5;241m.\u001b[39mnlevels \u001b[38;5;241m>\u001b[39m \u001b[38;5;241m1\u001b[39m:\n\u001b[1;32m   3892\u001b[0m     \u001b[38;5;28;01mreturn\u001b[39;00m \u001b[38;5;28mself\u001b[39m\u001b[38;5;241m.\u001b[39m_getitem_multilevel(key)\n\u001b[0;32m-> 3893\u001b[0m indexer \u001b[38;5;241m=\u001b[39m \u001b[38;5;28mself\u001b[39m\u001b[38;5;241m.\u001b[39mcolumns\u001b[38;5;241m.\u001b[39mget_loc(key)\n\u001b[1;32m   3894\u001b[0m \u001b[38;5;28;01mif\u001b[39;00m is_integer(indexer):\n\u001b[1;32m   3895\u001b[0m     indexer \u001b[38;5;241m=\u001b[39m [indexer]\n",
      "File \u001b[0;32m~/anaconda3/envs/latest/lib/python3.12/site-packages/pandas/core/indexes/range.py:418\u001b[0m, in \u001b[0;36mRangeIndex.get_loc\u001b[0;34m(self, key)\u001b[0m\n\u001b[1;32m    416\u001b[0m         \u001b[38;5;28;01mraise\u001b[39;00m \u001b[38;5;167;01mKeyError\u001b[39;00m(key) \u001b[38;5;28;01mfrom\u001b[39;00m \u001b[38;5;21;01merr\u001b[39;00m\n\u001b[1;32m    417\u001b[0m \u001b[38;5;28;01mif\u001b[39;00m \u001b[38;5;28misinstance\u001b[39m(key, Hashable):\n\u001b[0;32m--> 418\u001b[0m     \u001b[38;5;28;01mraise\u001b[39;00m \u001b[38;5;167;01mKeyError\u001b[39;00m(key)\n\u001b[1;32m    419\u001b[0m \u001b[38;5;28mself\u001b[39m\u001b[38;5;241m.\u001b[39m_check_indexing_error(key)\n\u001b[1;32m    420\u001b[0m \u001b[38;5;28;01mraise\u001b[39;00m \u001b[38;5;167;01mKeyError\u001b[39;00m(key)\n",
      "\u001b[0;31mKeyError\u001b[0m: 'webflow'"
     ]
    },
    {
     "data": {
      "text/plain": [
       "<Figure size 1400x700 with 0 Axes>"
      ]
     },
     "metadata": {},
     "output_type": "display_data"
    }
   ],
   "source": [
    "# Import necessary libraries\n",
    "from pytrends.request import TrendReq\n",
    "import matplotlib.pyplot as plt\n",
    "from datetime import datetime, timedelta\n",
    "import time\n",
    "from pytrends.exceptions import ResponseError\n",
    "\n",
    "# Set up pytrends\n",
    "pytrends = TrendReq(hl='en-US', tz=360)\n",
    "\n",
    "# Define the parameters for the query\n",
    "kw_list = [\"webflow\"]  # Add the keywords here\n",
    "timeframe = (datetime.now() - timedelta(days=5*365)).strftime('%Y-%m-%d') + ' ' + datetime.now().strftime('%Y-%m-%d')\n",
    "\n",
    "# Create the search object\n",
    "pytrends.build_payload(kw_list, timeframe=timeframe)\n",
    "\n",
    "# Initialize a variable for the delay time\n",
    "delay_time = 1.5\n",
    "\n",
    "while True:\n",
    "    try:\n",
    "        # Get the interest over time\n",
    "        interest_over_time_df = pytrends.interest_over_time()\n",
    "        break  # If the request is successful, break the loop\n",
    "    except ResponseError:\n",
    "        print(f\"Too many requests, waiting for {delay_time} seconds before trying again.\")\n",
    "        time.sleep(delay_time)  # Wait for the delay time before trying again\n",
    "        delay_time += 5  # Increase the delay time for the next attempt\n",
    "\n",
    "# Plot the data\n",
    "plt.figure(figsize=(14, 7))\n",
    "for keyword in kw_list:  # Loop over the keywords\n",
    "    plt.plot(interest_over_time_df[keyword], label=keyword)  # Plot the data for each keyword\n",
    "plt.title('Google Trends Worldwide, Last 5 Years', fontweight='bold')\n",
    "plt.xlabel('Year')\n",
    "plt.ylabel('Trends Index')\n",
    "plt.legend()  # Add a legend\n",
    "plt.grid(True)\n",
    "plt.show()"
   ]
  },
  {
   "cell_type": "code",
   "execution_count": 16,
   "metadata": {},
   "outputs": [
    {
     "name": "stderr",
     "output_type": "stream",
     "text": [
      "No artists with labels found to put in legend.  Note that artists whose label start with an underscore are ignored when legend() is called with no argument.\n"
     ]
    },
    {
     "name": "stdout",
     "output_type": "stream",
     "text": [
      "No data for webflow\n"
     ]
    },
    {
     "data": {
      "image/png": "[encoded data removed]",
      "text/plain": [
       "<Figure size 1400x700 with 1 Axes>"
      ]
     },
     "metadata": {},
     "output_type": "display_data"
    }
   ],
   "source": [
    "# Import necessary libraries\n",
    "from pytrends.request import TrendReq\n",
    "import matplotlib.pyplot as plt\n",
    "from datetime import datetime, timedelta\n",
    "import time\n",
    "from pytrends.exceptions import ResponseError\n",
    "\n",
    "# Set up pytrends\n",
    "pytrends = TrendReq(hl='en-US', tz=360)\n",
    "\n",
    "# Define the parameters for the query\n",
    "kw_list = [\"webflow\"]  # Add the keywords here\n",
    "timeframe = (datetime.now() - timedelta(days=5*365)).strftime('%Y-%m-%d') + ' ' + datetime.now().strftime('%Y-%m-%d')\n",
    "\n",
    "# Create the search object\n",
    "pytrends.build_payload(kw_list, timeframe=timeframe)\n",
    "\n",
    "# Initialize a variable for the delay time\n",
    "delay_time = 1.5\n",
    "\n",
    "while True:\n",
    "    try:\n",
    "        # Get the interest over time\n",
    "        interest_over_time_df = pytrends.interest_over_time()\n",
    "        break  # If the request is successful, break the loop\n",
    "    except ResponseError:\n",
    "        print(f\"Too many requests, waiting for {delay_time} seconds before trying again.\")\n",
    "        time.sleep(delay_time)  # Wait for the delay time before trying again\n",
    "        delay_time += 5  # Increase the delay time for the next attempt\n",
    "\n",
    "# Plot the data\n",
    "plt.figure(figsize=(14, 7))\n",
    "for keyword in kw_list:  # Loop over the keywords\n",
    "    if keyword in interest_over_time_df.columns:  # Check if the keyword is in the DataFrame\n",
    "        plt.plot(interest_over_time_df[keyword], label=keyword)  # Plot the data for each keyword\n",
    "    else:\n",
    "        print(f\"No data for {keyword}\")\n",
    "plt.title('Google Trends Worldwide, Last 5 Years', fontweight='bold')\n",
    "plt.xlabel('Year')\n",
    "plt.ylabel('Trends Index')\n",
    "plt.legend()  # Add a legend\n",
    "plt.grid(True)\n",
    "plt.show()"
   ]
  },
  {
   "cell_type": "code",
   "execution_count": null,
   "metadata": {},
   "outputs": [],
   "source": []
  },
  {
   "cell_type": "code",
   "execution_count": 17,
   "metadata": {},
   "outputs": [
    {
     "name": "stdout",
     "output_type": "stream",
     "text": [
      "No data available for 'webflow' in the specified timeframe.\n"
     ]
    }
   ],
   "source": [
    "# Import necessary libraries\n",
    "from pytrends.request import TrendReq\n",
    "import matplotlib.pyplot as plt\n",
    "from datetime import datetime, timedelta\n",
    "\n",
    "# Set up pytrends\n",
    "pytrends = TrendReq(hl='en-US', tz=360)\n",
    "\n",
    "# Define the parameters for the query\n",
    "kw_list = [\"webflow\"]  # Add the keyword here\n",
    "timeframe = (datetime.now() - timedelta(days=5*365)).strftime('%Y-%m-%d') + ' ' + datetime.now().strftime('%Y-%m-%d')\n",
    "\n",
    "# Create the search object\n",
    "pytrends.build_payload(kw_list, timeframe=timeframe)\n",
    "\n",
    "# Get the interest over time\n",
    "interest_over_time_df = pytrends.interest_over_time()\n",
    "\n",
    "# Check if the DataFrame is empty or if 'webflow' is not a column in the DataFrame\n",
    "if interest_over_time_df.empty or 'webflow' not in interest_over_time_df.columns:\n",
    "    print(\"No data available for 'webflow' in the specified timeframe.\")\n",
    "else:\n",
    "    # Plot the data\n",
    "    plt.figure(figsize=(14, 7))\n",
    "    plt.plot(interest_over_time_df['webflow'], label='webflow')  # Plot the data for 'webflow'\n",
    "    plt.title('Google Trends for \"webflow\", Last 5 Years', fontweight='bold')\n",
    "    plt.xlabel('Year')\n",
    "    plt.ylabel('Trends Index')\n",
    "    plt.legend()  # Add a legend\n",
    "    plt.grid(True)\n",
    "    plt.show()"
   ]
  },
  {
   "cell_type": "code",
   "execution_count": 18,
   "metadata": {},
   "outputs": [
    {
     "ename": "AttributeError",
     "evalue": "'DataFrame' object has no attribute 'append'",
     "output_type": "error",
     "traceback": [
      "\u001b[0;31m---------------------------------------------------------------------------\u001b[0m",
      "\u001b[0;31mAttributeError\u001b[0m                            Traceback (most recent call last)",
      "\u001b[0;32m/var/folders/pc/lmx8stl13zx545r42bkjrb9w0000gq/T/ipykernel_25394/3321526736.py\u001b[0m in \u001b[0;36m?\u001b[0;34m()\u001b[0m\n\u001b[1;32m     26\u001b[0m     \u001b[0;31m# Get the interest over time\u001b[0m\u001b[0;34m\u001b[0m\u001b[0;34m\u001b[0m\u001b[0m\n\u001b[1;32m     27\u001b[0m     \u001b[0minterest_over_time_df\u001b[0m \u001b[0;34m=\u001b[0m \u001b[0mpytrends\u001b[0m\u001b[0;34m.\u001b[0m\u001b[0minterest_over_time\u001b[0m\u001b[0;34m(\u001b[0m\u001b[0;34m)\u001b[0m\u001b[0;34m\u001b[0m\u001b[0;34m\u001b[0m\u001b[0m\n\u001b[1;32m     28\u001b[0m \u001b[0;34m\u001b[0m\u001b[0m\n\u001b[1;32m     29\u001b[0m     \u001b[0;31m# Append the data to the all_data DataFrame\u001b[0m\u001b[0;34m\u001b[0m\u001b[0;34m\u001b[0m\u001b[0m\n\u001b[0;32m---> 30\u001b[0;31m     \u001b[0mall_data\u001b[0m \u001b[0;34m=\u001b[0m \u001b[0mall_data\u001b[0m\u001b[0;34m.\u001b[0m\u001b[0mappend\u001b[0m\u001b[0;34m(\u001b[0m\u001b[0minterest_over_time_df\u001b[0m\u001b[0;34m)\u001b[0m\u001b[0;34m\u001b[0m\u001b[0;34m\u001b[0m\u001b[0m\n\u001b[0m\u001b[1;32m     31\u001b[0m \u001b[0;34m\u001b[0m\u001b[0m\n\u001b[1;32m     32\u001b[0m \u001b[0;31m# Plot the data\u001b[0m\u001b[0;34m\u001b[0m\u001b[0;34m\u001b[0m\u001b[0m\n\u001b[1;32m     33\u001b[0m \u001b[0mplt\u001b[0m\u001b[0;34m.\u001b[0m\u001b[0mfigure\u001b[0m\u001b[0;34m(\u001b[0m\u001b[0mfigsize\u001b[0m\u001b[0;34m=\u001b[0m\u001b[0;34m(\u001b[0m\u001b[0;36m14\u001b[0m\u001b[0;34m,\u001b[0m \u001b[0;36m7\u001b[0m\u001b[0;34m)\u001b[0m\u001b[0;34m)\u001b[0m\u001b[0;34m\u001b[0m\u001b[0;34m\u001b[0m\u001b[0m\n",
      "\u001b[0;32m~/anaconda3/envs/latest/lib/python3.12/site-packages/pandas/core/generic.py\u001b[0m in \u001b[0;36m?\u001b[0;34m(self, name)\u001b[0m\n\u001b[1;32m   6200\u001b[0m             \u001b[0;32mand\u001b[0m \u001b[0mname\u001b[0m \u001b[0;32mnot\u001b[0m \u001b[0;32min\u001b[0m \u001b[0mself\u001b[0m\u001b[0;34m.\u001b[0m\u001b[0m_accessors\u001b[0m\u001b[0;34m\u001b[0m\u001b[0;34m\u001b[0m\u001b[0m\n\u001b[1;32m   6201\u001b[0m             \u001b[0;32mand\u001b[0m \u001b[0mself\u001b[0m\u001b[0;34m.\u001b[0m\u001b[0m_info_axis\u001b[0m\u001b[0;34m.\u001b[0m\u001b[0m_can_hold_identifiers_and_holds_name\u001b[0m\u001b[0;34m(\u001b[0m\u001b[0mname\u001b[0m\u001b[0;34m)\u001b[0m\u001b[0;34m\u001b[0m\u001b[0;34m\u001b[0m\u001b[0m\n\u001b[1;32m   6202\u001b[0m         \u001b[0;34m)\u001b[0m\u001b[0;34m:\u001b[0m\u001b[0;34m\u001b[0m\u001b[0;34m\u001b[0m\u001b[0m\n\u001b[1;32m   6203\u001b[0m             \u001b[0;32mreturn\u001b[0m \u001b[0mself\u001b[0m\u001b[0;34m[\u001b[0m\u001b[0mname\u001b[0m\u001b[0;34m]\u001b[0m\u001b[0;34m\u001b[0m\u001b[0;34m\u001b[0m\u001b[0m\n\u001b[0;32m-> 6204\u001b[0;31m         \u001b[0;32mreturn\u001b[0m \u001b[0mobject\u001b[0m\u001b[0;34m.\u001b[0m\u001b[0m__getattribute__\u001b[0m\u001b[0;34m(\u001b[0m\u001b[0mself\u001b[0m\u001b[0;34m,\u001b[0m \u001b[0mname\u001b[0m\u001b[0;34m)\u001b[0m\u001b[0;34m\u001b[0m\u001b[0;34m\u001b[0m\u001b[0m\n\u001b[0m",
      "\u001b[0;31mAttributeError\u001b[0m: 'DataFrame' object has no attribute 'append'"
     ]
    }
   ],
   "source": [
    "# Import necessary libraries\n",
    "from pytrends.request import TrendReq\n",
    "import matplotlib.pyplot as plt\n",
    "from datetime import datetime, timedelta\n",
    "import pandas as pd\n",
    "\n",
    "# Set up pytrends\n",
    "pytrends = TrendReq(hl='en-US', tz=360)\n",
    "\n",
    "# Define the parameters for the query\n",
    "kw_list = [\"webflow\"]  # Add the keyword here\n",
    "\n",
    "# Initialize an empty DataFrame to store the results\n",
    "all_data = pd.DataFrame()\n",
    "\n",
    "# Loop over the last 5 years\n",
    "for i in range(5, 0, -1):\n",
    "    # Define the timeframe for this year\n",
    "    start_date = (datetime.now() - timedelta(days=i*365)).strftime('%Y-%m-%d')\n",
    "    end_date = (datetime.now() - timedelta(days=(i-1)*365)).strftime('%Y-%m-%d')\n",
    "    timeframe = start_date + ' ' + end_date\n",
    "\n",
    "    # Create the search object\n",
    "    pytrends.build_payload(kw_list, timeframe=timeframe)\n",
    "\n",
    "    # Get the interest over time\n",
    "    interest_over_time_df = pytrends.interest_over_time()\n",
    "\n",
    "    # Append the data to the all_data DataFrame\n",
    "    all_data = all_data.append(interest_over_time_df)\n",
    "\n",
    "# Plot the data\n",
    "plt.figure(figsize=(14, 7))\n",
    "plt.plot(all_data['webflow'], label='webflow')  # Plot the data for 'webflow'\n",
    "plt.title('Google Trends for \"webflow\", Last 5 Years', fontweight='bold')\n",
    "plt.xlabel('Year')\n",
    "plt.ylabel('Trends Index')\n",
    "plt.legend()  # Add a legend\n",
    "plt.grid(True)\n",
    "plt.show()"
   ]
  }
 ],
 "metadata": {
  "kernelspec": {
   "display_name": "latest",
   "language": "python",
   "name": "python3"
  },
  "language_info": {
   "codemirror_mode": {
    "name": "ipython",
    "version": 3
   },
   "file_extension": ".py",
   "mimetype": "text/x-python",
   "name": "python",
   "nbconvert_exporter": "python",
   "pygments_lexer": "ipython3",
   "version": "3.12.1"
  }
 },
 "nbformat": 4,
 "nbformat_minor": 2
}
