{
 "cells": [
  {
   "cell_type": "markdown",
   "metadata": {},
   "source": [
    "- How many wordps per url?\n",
    "- custom google search into json"
   ]
  },
  {
   "cell_type": "code",
   "execution_count": 1,
   "metadata": {},
   "outputs": [
    {
     "name": "stdout",
     "output_type": "stream",
     "text": [
      "                                                  Url  content_count_words\n",
      "1   products/copy-of-new-4bf-sports-balls-basketba...                  103\n",
      "2      products/new-4bf-sports-balls-basketball-large                  103\n",
      "3              products/copy-of-4bf-bumpy-ball-medium                  114\n",
      "4         products/new-4bf-sports-balls-soccer-medium                  113\n",
      "5                  products/4bf-mask-el-loco-crazy-xl                  151\n",
      "6              products/4bf-mask-la-fiera-the-beast-l                  178\n",
      "7          products/4bf-mask-la-pantera-the-panther-s                  144\n",
      "8                products/4bf-mask-maravilla-wonder-m                  197\n",
      "9                                   products/4bf-mask                  170\n",
      "10                        products/4bf-mask-volcano-s                  153\n",
      "11                          products/4bf-tugging-bone                  196\n",
      "12                           products/4bf-tugging-cat                  151\n",
      "13                          products/4bf-tugging-star                  174\n",
      "14         products/4bf-crazy-bounce-ball-extra-large                  196\n",
      "15               products/4bf-crazy-bounce-ball-large                  190\n",
      "16              products/4bf-crazy-bounce-ball-medium                  191\n",
      "17               products/4bf-crazy-bounce-ball-small                  191\n",
      "18                          products/clip-n-toss-rope                  166\n",
      "19                                  products/football                  187\n",
      "20             products/4bf-mask-dinamita-dynamite-xs                  123\n",
      "21            products/4bf-mask-el-diablo-the-devil-l                  152\n",
      "22                         products/4bf-mask-techno-m                  157\n"
     ]
    }
   ],
   "source": [
    "import pandas as pd\n",
    "import os\n",
    "\n",
    "# How many words per url?\n",
    "\n",
    "# Define the absolute input file path\n",
    "input_file_path = '/Users/tis/Dendron/notes/dev/SEO/KatiesBUMPERS/ubersuggest site audit katiesbumpers.com/low_word_count.csv'\n",
    "\n",
    "# Read the existing CSV file\n",
    "try:\n",
    "    df = pd.read_csv(input_file_path)\n",
    "except FileNotFoundError:\n",
    "    print(f\"File not found at path: {input_file_path}\")\n",
    "    raise  # This will propagate the exception and provide more details about the error\n",
    "\n",
    "# Filter out the rows with '/products/' in the URL and make a copy\n",
    "filtered_df = df[df['Url'].str.contains('/products/')].copy()\n",
    "\n",
    "# Remove 'https://katiesbumpers.com/' from the 'Url' column\n",
    "filtered_df['Url'] = filtered_df['Url'].str.replace('https://katiesbumpers.com/', '')\n",
    "\n",
    "# Now filtered_df contains the filtered data, and you can use it as needed.\n",
    "# To print the entire DataFrame:\n",
    "print(filtered_df)\n"
   ]
  },
  {
   "cell_type": "code",
   "execution_count": null,
   "metadata": {},
   "outputs": [
    {
     "name": "stdout",
     "output_type": "stream",
     "text": [
      "Search results saved to output folder.\n"
     ]
    }
   ],
   "source": [
    "import requests\n",
    "import json\n",
    "import os\n",
    "from dotenv import load_dotenv\n",
    "\n",
    "# Load environment variables from .env file\n",
    "load_dotenv('/Users/tis/foam/cdp/code/.env')\n",
    "\n",
    "# Set the API key and domain to search for\n",
    "api_key = os.getenv('API_KEY')\n",
    "\n",
    "domain = \"katiesbumpers.com\"\n",
    "\n",
    "# Set the search query\n",
    "query = f\"site:{domain}\"\n",
    "\n",
    "# Set the output folder path\n",
    "output_folder = \"output\"\n",
    "\n",
    "# Set the initial page number and result count\n",
    "page = 1\n",
    "count = 100\n",
    "\n",
    "# Initialize the list of results\n",
    "results = []\n",
    "\n",
    "# Loop through all the pages of results\n",
    "while True:\n",
    "    # Make the API request\n",
    "    response = requests.get(f\"http://api.serpstack.com/search?access_key={api_key}&query={query}&page={page}&count={count}\")\n",
    "    \n",
    "    # Check if the request was successful\n",
    "    if response.status_code == 200:\n",
    "        # Get the organic results from the response\n",
    "        organic_results = response.json()[\"organic_results\"]\n",
    "        \n",
    "        # Add the organic results to the list of results\n",
    "        results.extend(organic_results)\n",
    "        \n",
    "        # Check if there are more pages of results\n",
    "        if len(organic_results) < count:\n",
    "            break\n",
    "        else:\n",
    "            page += 1\n",
    "    else:\n",
    "        print(\"Error: API request failed.\")\n",
    "        break\n",
    "\n",
    "# Create the output folder if it doesn't exist\n",
    "if not os.path.exists(output_folder):\n",
    "    os.makedirs(output_folder)\n",
    "\n",
    "# Save the list of results to a file in the output folder\n",
    "with open(f\"{output_folder}/search_results.json\", \"w\") as f:\n",
    "    json.dump(results, f)\n",
    "\n",
    "print(\"Search results saved to output folder.\")"
   ]
  },
  {
   "cell_type": "code",
   "execution_count": null,
   "metadata": {},
   "outputs": [],
   "source": [
    "import pandas as pd\n",
    "import json\n",
    "\n",
    "# Set the path to the JSON file\n",
    "json_file = \"/Users/tis/Dendron/notes/dev/SEO/KatiesBUMPERS/output/search_results.json\"\n",
    "\n",
    "# Load the JSON file as a Pandas DataFrame\n",
    "df = pd.read_json(json_file)\n",
    "\n",
    "# Print the head of the DataFrame\n",
    "# print(df.head())\n",
    "\n",
    "# Show an overview of the DataFrame\n",
    "df.info()"
   ]
  }
 ],
 "metadata": {
  "kernelspec": {
   "display_name": "base",
   "language": "python",
   "name": "python3"
  },
  "language_info": {
   "codemirror_mode": {
    "name": "ipython",
    "version": 3
   },
   "file_extension": ".py",
   "mimetype": "text/x-python",
   "name": "python",
   "nbconvert_exporter": "python",
   "pygments_lexer": "ipython3",
   "version": "3.9.18"
  },
  "orig_nbformat": 4
 },
 "nbformat": 4,
 "nbformat_minor": 2
}
